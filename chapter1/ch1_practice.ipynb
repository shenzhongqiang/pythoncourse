{
 "cells": [
  {
   "cell_type": "code",
   "execution_count": 10,
   "metadata": {},
   "outputs": [
    {
     "name": "stdout",
     "output_type": "stream",
     "text": [
      "[{'name': 'Jack', 'tel': '131111111', 'district': 'Shanghai'}, {'name': 'John', 'tel': '132222222', 'district': 'Beijing'}, {'name': 'Jane', 'tel': '135555555', 'district': 'Shanghai'}]\n"
     ]
    }
   ],
   "source": [
    "contacts = [\n",
    "    {\n",
    "        'name': 'Jack',\n",
    "        'tel': '131111111',\n",
    "        'district': 'Shanghai',\n",
    "    },\n",
    "    {\n",
    "        'name': 'John',\n",
    "        'tel': '132222222',\n",
    "        'district': 'Beijing',\n",
    "    },\n",
    "    {\n",
    "        'name': 'Jane',\n",
    "        'tel': '135555555',\n",
    "        'district': 'Shanghai',\n",
    "    }\n",
    "]\n",
    "print(contacts)"
   ]
  },
  {
   "cell_type": "code",
   "execution_count": 9,
   "metadata": {},
   "outputs": [
    {
     "name": "stdout",
     "output_type": "stream",
     "text": [
      "24\n"
     ]
    }
   ],
   "source": [
    "# 末尾有几个零\n",
    "num = 0\n",
    "n = 100\n",
    "\n",
    "while True:\n",
    "    n = int(n / 5)\n",
    "    if n == 0:\n",
    "        break\n",
    "    num = num + n\n",
    "\n",
    "print(num)\n"
   ]
  },
  {
   "cell_type": "code",
   "execution_count": 6,
   "metadata": {},
   "outputs": [
    {
     "data": {
      "image/png": "[encoded data removed]",
      "text/plain": [
       "<Figure size 432x288 with 1 Axes>"
      ]
     },
     "metadata": {
      "needs_background": "light"
     },
     "output_type": "display_data"
    }
   ],
   "source": [
    "# 实战项目 - 计算最大回撤\n",
    "import numpy as np\n",
    "import matplotlib.pyplot as plt\n",
    "\n",
    "np.random.seed(1)\n",
    "ts = np.random.randn(1000).cumsum()\n",
    "plt.plot(ts)\n",
    "plt.show()"
   ]
  },
  {
   "cell_type": "code",
   "execution_count": 5,
   "metadata": {},
   "outputs": [
    {
     "name": "stdout",
     "output_type": "stream",
     "text": [
      "17.008446252634755\n"
     ]
    }
   ],
   "source": [
    "def get_max_drawdown(ts):\n",
    "    drawdowns = []\n",
    "    for i in range(1, len(ts), 1):\n",
    "        peak = max(ts[:i])\n",
    "        drawdown = peak - ts[i]\n",
    "        drawdowns.append(drawdown)\n",
    "    return max(drawdowns)\n",
    "\n",
    "max_drawdown = get_max_drawdown(ts)\n",
    "print(max_drawdown)"
   ]
  },
  {
   "cell_type": "code",
   "execution_count": null,
   "metadata": {},
   "outputs": [],
   "source": []
  }
 ],
 "metadata": {
  "kernelspec": {
   "display_name": "Python 3",
   "language": "python",
   "name": "python3"
  },
  "language_info": {
   "codemirror_mode": {
    "name": "ipython",
    "version": 3
   },
   "file_extension": ".py",
   "mimetype": "text/x-python",
   "name": "python",
   "nbconvert_exporter": "python",
   "pygments_lexer": "ipython3",
   "version": "3.6.8"
  }
 },
 "nbformat": 4,
 "nbformat_minor": 2
}
