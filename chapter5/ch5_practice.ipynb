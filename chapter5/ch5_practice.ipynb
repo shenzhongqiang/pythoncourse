{
 "cells": [
  {
   "cell_type": "code",
   "execution_count": 86,
   "metadata": {},
   "outputs": [],
   "source": [
    "import pymongo\n",
    "import pandas as pd\n",
    "client = pymongo.MongoClient()\n",
    "db = client[\"house\"]\n",
    "cursor = db.house.find()\n",
    "df = pd.DataFrame(list(cursor))\n",
    "df.drop_duplicates(inplace=True) \n"
   ]
  },
  {
   "cell_type": "code",
   "execution_count": 87,
   "metadata": {},
   "outputs": [],
   "source": [
    "df = df[(df.price > 0) & (df.size > 0)]"
   ]
  },
  {
   "cell_type": "code",
   "execution_count": 49,
   "metadata": {},
   "outputs": [
    {
     "data": {
      "text/html": [
       "<div>\n",
       "<style scoped>\n",
       "    .dataframe tbody tr th:only-of-type {\n",
       "        vertical-align: middle;\n",
       "    }\n",
       "\n",
       "    .dataframe tbody tr th {\n",
       "        vertical-align: top;\n",
       "    }\n",
       "\n",
       "    .dataframe thead th {\n",
       "        text-align: right;\n",
       "    }\n",
       "</style>\n",
       "<table border=\"1\" class=\"dataframe\">\n",
       "  <thead>\n",
       "    <tr style=\"text-align: right;\">\n",
       "      <th></th>\n",
       "      <th>_id</th>\n",
       "      <th>title</th>\n",
       "      <th>price</th>\n",
       "      <th>up_price</th>\n",
       "      <th>xiaoqu_name</th>\n",
       "      <th>size</th>\n",
       "      <th>buildyear</th>\n",
       "      <th>huxing</th>\n",
       "      <th>chaoxiang</th>\n",
       "      <th>zhuangxiu</th>\n",
       "      <th>cenggao</th>\n",
       "      <th>louxing</th>\n",
       "      <th>district_name</th>\n",
       "      <th>sub_district_name</th>\n",
       "    </tr>\n",
       "  </thead>\n",
       "  <tbody>\n",
       "    <tr>\n",
       "      <td>0</td>\n",
       "      <td>5dcbb62694ae6f30ad4f8d99</td>\n",
       "      <td>三房+诚意出售+全明户型+看房方便+钥匙房</td>\n",
       "      <td>420.0</td>\n",
       "      <td>46497.0</td>\n",
       "      <td>培花久远公寓</td>\n",
       "      <td>90.33</td>\n",
       "      <td>1997</td>\n",
       "      <td>3室1厅</td>\n",
       "      <td>南</td>\n",
       "      <td>简装</td>\n",
       "      <td>高楼层(共6层)</td>\n",
       "      <td>板楼</td>\n",
       "      <td>浦东</td>\n",
       "      <td>北蔡</td>\n",
       "    </tr>\n",
       "    <tr>\n",
       "      <td>1</td>\n",
       "      <td>5dcbb62694ae6f30ad4f8d9a</td>\n",
       "      <td>10+婚房新装修+无增值税+无个税+诚意出售看房方便！！</td>\n",
       "      <td>208.0</td>\n",
       "      <td>45565.0</td>\n",
       "      <td>芳雅苑</td>\n",
       "      <td>45.65</td>\n",
       "      <td>1995</td>\n",
       "      <td>1室1厅</td>\n",
       "      <td>南</td>\n",
       "      <td>精装</td>\n",
       "      <td>高楼层(共7层)</td>\n",
       "      <td>板楼</td>\n",
       "      <td>浦东</td>\n",
       "      <td>北蔡</td>\n",
       "    </tr>\n",
       "    <tr>\n",
       "      <td>2</td>\n",
       "      <td>5dcbb62694ae6f30ad4f8d9b</td>\n",
       "      <td>新上电梯两房，无增值税，自住装修，看房方便，诚售</td>\n",
       "      <td>460.0</td>\n",
       "      <td>60671.0</td>\n",
       "      <td>大华锦绣华城(二街区)</td>\n",
       "      <td>75.82</td>\n",
       "      <td>2012</td>\n",
       "      <td>2室1厅</td>\n",
       "      <td>南 北</td>\n",
       "      <td>精装</td>\n",
       "      <td>低楼层(共18层)</td>\n",
       "      <td>板楼</td>\n",
       "      <td>浦东</td>\n",
       "      <td>北蔡</td>\n",
       "    </tr>\n",
       "    <tr>\n",
       "      <td>3</td>\n",
       "      <td>5dcbb62694ae6f30ad4f8d9c</td>\n",
       "      <td>2003年新房+东边套+20万装修+着急出售。</td>\n",
       "      <td>219.0</td>\n",
       "      <td>47280.0</td>\n",
       "      <td>绿川新苑</td>\n",
       "      <td>46.32</td>\n",
       "      <td>2003</td>\n",
       "      <td>1室1厅</td>\n",
       "      <td>南</td>\n",
       "      <td>精装</td>\n",
       "      <td>高楼层(共6层)</td>\n",
       "      <td>板楼</td>\n",
       "      <td>浦东</td>\n",
       "      <td>北蔡</td>\n",
       "    </tr>\n",
       "    <tr>\n",
       "      <td>4</td>\n",
       "      <td>5dcbb62694ae6f30ad4f8d9d</td>\n",
       "      <td>非底楼 满五年唯一 税费少 婚房装修 楼称佳 户型方正</td>\n",
       "      <td>330.0</td>\n",
       "      <td>52290.0</td>\n",
       "      <td>芳雅苑</td>\n",
       "      <td>63.11</td>\n",
       "      <td>1995</td>\n",
       "      <td>2室1厅</td>\n",
       "      <td>南</td>\n",
       "      <td>精装</td>\n",
       "      <td>低楼层(共6层)</td>\n",
       "      <td>板楼</td>\n",
       "      <td>浦东</td>\n",
       "      <td>北蔡</td>\n",
       "    </tr>\n",
       "  </tbody>\n",
       "</table>\n",
       "</div>"
      ],
      "text/plain": [
       "                        _id                         title  price  up_price  \\\n",
       "0  5dcbb62694ae6f30ad4f8d99         三房+诚意出售+全明户型+看房方便+钥匙房  420.0   46497.0   \n",
       "1  5dcbb62694ae6f30ad4f8d9a  10+婚房新装修+无增值税+无个税+诚意出售看房方便！！  208.0   45565.0   \n",
       "2  5dcbb62694ae6f30ad4f8d9b      新上电梯两房，无增值税，自住装修，看房方便，诚售  460.0   60671.0   \n",
       "3  5dcbb62694ae6f30ad4f8d9c       2003年新房+东边套+20万装修+着急出售。  219.0   47280.0   \n",
       "4  5dcbb62694ae6f30ad4f8d9d   非底楼 满五年唯一 税费少 婚房装修 楼称佳 户型方正  330.0   52290.0   \n",
       "\n",
       "    xiaoqu_name   size  buildyear huxing chaoxiang zhuangxiu      cenggao  \\\n",
       "0       培花久远公寓   90.33       1997  3室1厅         南        简装     高楼层(共6层)    \n",
       "1          芳雅苑   45.65       1995  1室1厅         南        精装     高楼层(共7层)    \n",
       "2  大华锦绣华城(二街区)   75.82       2012  2室1厅       南 北        精装    低楼层(共18层)    \n",
       "3         绿川新苑   46.32       2003  1室1厅         南        精装     高楼层(共6层)    \n",
       "4          芳雅苑   63.11       1995  2室1厅         南        精装     低楼层(共6层)    \n",
       "\n",
       "  louxing district_name sub_district_name  \n",
       "0      板楼            浦东                北蔡  \n",
       "1      板楼            浦东                北蔡  \n",
       "2      板楼            浦东                北蔡  \n",
       "3      板楼            浦东                北蔡  \n",
       "4      板楼            浦东                北蔡  "
      ]
     },
     "execution_count": 49,
     "metadata": {},
     "output_type": "execute_result"
    }
   ],
   "source": [
    "df.head()"
   ]
  },
  {
   "cell_type": "code",
   "execution_count": 52,
   "metadata": {},
   "outputs": [
    {
     "data": {
      "text/plain": [
       "69716"
      ]
     },
     "execution_count": 52,
     "metadata": {},
     "output_type": "execute_result"
    }
   ],
   "source": [
    "len(df)"
   ]
  },
  {
   "cell_type": "code",
   "execution_count": 53,
   "metadata": {},
   "outputs": [
    {
     "data": {
      "text/plain": [
       "69142"
      ]
     },
     "execution_count": 53,
     "metadata": {},
     "output_type": "execute_result"
    }
   ],
   "source": [
    "df = df.drop_duplicates([\"title\", \"price\",\n",
    "                    \"xiaoqu_name\", \"size\",\n",
    "                    \"buildyear\", \"huxing\",\n",
    "                    \"chaoxiang\", \"zhuangxiu\",\n",
    "                    \"cenggao\", \"district_name\",\n",
    "                    \"sub_district_name\"])\n",
    "len(df)"
   ]
  },
  {
   "cell_type": "code",
   "execution_count": 22,
   "metadata": {},
   "outputs": [
    {
     "data": {
      "text/plain": [
       "Index(['_id', 'title', 'price', 'up_price', 'xiaoqu_name', 'size', 'buildyear',\n",
       "       'huxing', 'chaoxiang', 'zhuangxiu', 'cenggao', 'louxing',\n",
       "       'district_name', 'sub_district_name'],\n",
       "      dtype='object')"
      ]
     },
     "execution_count": 22,
     "metadata": {},
     "output_type": "execute_result"
    }
   ],
   "source": [
    "df.columns"
   ]
  },
  {
   "cell_type": "code",
   "execution_count": 23,
   "metadata": {},
   "outputs": [
    {
     "data": {
      "text/plain": [
       "69716"
      ]
     },
     "execution_count": 23,
     "metadata": {},
     "output_type": "execute_result"
    }
   ],
   "source": []
  },
  {
   "cell_type": "code",
   "execution_count": 24,
   "metadata": {},
   "outputs": [
    {
     "data": {
      "text/plain": [
       "8581"
      ]
     },
     "execution_count": 24,
     "metadata": {},
     "output_type": "execute_result"
    }
   ],
   "source": [
    "len(df.xiaoqu_name.unique())"
   ]
  },
  {
   "cell_type": "code",
   "execution_count": 29,
   "metadata": {},
   "outputs": [
    {
     "data": {
      "text/plain": [
       "15"
      ]
     },
     "execution_count": 29,
     "metadata": {},
     "output_type": "execute_result"
    }
   ],
   "source": [
    "len(df.district_name.unique())"
   ]
  },
  {
   "cell_type": "code",
   "execution_count": 27,
   "metadata": {},
   "outputs": [
    {
     "data": {
      "text/plain": [
       "165"
      ]
     },
     "execution_count": 27,
     "metadata": {},
     "output_type": "execute_result"
    }
   ],
   "source": [
    "len(df.sub_district_name.unique())"
   ]
  },
  {
   "cell_type": "code",
   "execution_count": 47,
   "metadata": {},
   "outputs": [
    {
     "data": {
      "text/plain": [
       "array([' 板楼', ' 塔楼', '', ' 板楼 ', ' 暂无数据', ' 板塔结合', ' 平房', ' 塔楼 ', ' 平房 ',\n",
       "       ' 暂无数据 '], dtype=object)"
      ]
     },
     "execution_count": 47,
     "metadata": {},
     "output_type": "execute_result"
    }
   ],
   "source": [
    "df.louxing.unique()"
   ]
  },
  {
   "cell_type": "code",
   "execution_count": 46,
   "metadata": {},
   "outputs": [
    {
     "data": {
      "text/plain": [
       "array(['3室1厅 ', '1室1厅 ', '2室1厅 ', '4室3厅 ', '2室2厅 ', '3室2厅 ', '1室2厅 ',\n",
       "       '4室2厅 ', '2室0厅 ', '', '5室1厅 ', '5室3厅 ', '1室0厅 ', '5室2厅 ', '4室1厅 ',\n",
       "       '4室4厅 ', '6室3厅 ', '5室6厅 ', '3室3厅 ', '5室4厅 ', '6室2厅 ', '7室3厅 ',\n",
       "       '9室2厅 ', '7室2厅 ', '7室1厅 ', '6室4厅 ', '6室1厅 ', '8室4厅 ', '3室0厅 ',\n",
       "       '7室4厅 ', '7室5厅 ', '4室5厅 ', '20室0厅 ', '9室6厅 ', '9室4厅 ', '10室1厅 ',\n",
       "       '4室0厅 ', '6室5厅 ', '8室1厅 ', '9室3厅 ', '9室9厅 ', '5室5厅 ', '8室3厅 ',\n",
       "       '2室3厅 ', '7室6厅 ', '8室2厅 ', '0室0厅 ', '6室6厅 ', '10室6厅 ', '2室4厅 ',\n",
       "       '11室3厅 ', '6室0厅 ', '10室2厅 ', '7室0厅 ', '8室5厅 ', '10室3厅 ', '5室0厅 ',\n",
       "       '3室5厅 '], dtype=object)"
      ]
     },
     "execution_count": 46,
     "metadata": {},
     "output_type": "execute_result"
    }
   ],
   "source": [
    "df.huxing.unique()"
   ]
  },
  {
   "cell_type": "code",
   "execution_count": 74,
   "metadata": {},
   "outputs": [
    {
     "data": {
      "text/plain": [
       "huxing\n",
       "9室9厅          1\n",
       "6室6厅          1\n",
       "7室0厅          1\n",
       "4室5厅          1\n",
       "3室5厅          1\n",
       "2室4厅          1\n",
       "8室5厅          1\n",
       "20室0厅         1\n",
       "8室1厅          1\n",
       "11室3厅         1\n",
       "10室2厅         1\n",
       "10室6厅         1\n",
       "10室1厅         1\n",
       "10室3厅         1\n",
       "9室3厅          1\n",
       "9室6厅          2\n",
       "5室0厅          2\n",
       "5室6厅          2\n",
       "6室0厅          2\n",
       "7室6厅          2\n",
       "5室5厅          2\n",
       "7室1厅          2\n",
       "0室0厅          3\n",
       "9室4厅          3\n",
       "4室0厅          3\n",
       "9室2厅          4\n",
       "6室5厅          4\n",
       "8室4厅          5\n",
       "7室5厅          5\n",
       "8室3厅          6\n",
       "2室3厅          8\n",
       "7室4厅          9\n",
       "8室2厅          9\n",
       "6室1厅         12\n",
       "4室4厅         21\n",
       "7室2厅         28\n",
       "5室1厅         28\n",
       "7室3厅         36\n",
       "5室4厅         45\n",
       "6室4厅         47\n",
       "3室0厅        106\n",
       "3室3厅        129\n",
       "4室1厅        130\n",
       "6室2厅        146\n",
       "6室3厅        175\n",
       "4室3厅        555\n",
       "5室3厅        557\n",
       "5室2厅        835\n",
       "1室2厅       1128\n",
       "2室0厅       1347\n",
       "1室0厅       1876\n",
       "3室1厅       3219\n",
       "           3361\n",
       "4室2厅       3423\n",
       "1室1厅      11464\n",
       "3室2厅      11951\n",
       "2室2厅      12160\n",
       "2室1厅      16275\n",
       "Name: huxing, dtype: int64"
      ]
     },
     "execution_count": 74,
     "metadata": {},
     "output_type": "execute_result"
    }
   ],
   "source": [
    "df.groupby(\"huxing\")[\"huxing\"].count().sort_values()"
   ]
  },
  {
   "cell_type": "code",
   "execution_count": 30,
   "metadata": {},
   "outputs": [
    {
     "data": {
      "text/plain": [
       "array([' 简装 ', ' 精装 ', ' 毛坯 ', '', ' 其他 '], dtype=object)"
      ]
     },
     "execution_count": 30,
     "metadata": {},
     "output_type": "execute_result"
    }
   ],
   "source": [
    "df.zhuangxiu.unique()"
   ]
  },
  {
   "cell_type": "code",
   "execution_count": 35,
   "metadata": {},
   "outputs": [
    {
     "data": {
      "text/plain": [
       "array([1997, 1995, 2012, 2003, 2013, 2010, 1996, 2004, 2011, 2002, 1999,\n",
       "       2007, 1994, 2016, 2000, 2005, 2015, 1998, 2008, 2006, 2009, 1993,\n",
       "       2014, 1992, 2001, 2019, 2018, 1987, 1991, 2017, 1988, 1982, 1984,\n",
       "       1983, 1981, 1985, 2104, 1977, 1986, 1990, 1989, 1979, 1980, 1953,\n",
       "       1976, 1958, 1978, 1969, 1974, 1975, 1955, 1971, 1954, 1956, 1959,\n",
       "       1964, 1960, 1967, 1972, 1961, 1973, 1936, 1949, 1911, 1941, 1948,\n",
       "       1940, 1939, 1933, 1946, 1937, 1910, 1945, 1957, 1965, 1966, 1970,\n",
       "       1963, 1968, 1950, 1962, 1930, 1920, 1947, 1938, 1934, 1935, 1921,\n",
       "       1926, 1912, 1924, 1931, 1928, 1943, 1952, 1951], dtype=int64)"
      ]
     },
     "execution_count": 35,
     "metadata": {},
     "output_type": "execute_result"
    }
   ],
   "source": [
    "df[df.buildyear>0].buildyear.unique()"
   ]
  },
  {
   "cell_type": "code",
   "execution_count": 75,
   "metadata": {},
   "outputs": [
    {
     "data": {
      "text/plain": [
       "buildyear\n",
       "1910       1\n",
       "1952       1\n",
       "1951       1\n",
       "1950       1\n",
       "1946       1\n",
       "        ... \n",
       "1997    2949\n",
       "2006    3024\n",
       "2005    3307\n",
       "1995    3624\n",
       "1994    3704\n",
       "Name: buildyear, Length: 96, dtype: int64"
      ]
     },
     "execution_count": 75,
     "metadata": {},
     "output_type": "execute_result"
    }
   ],
   "source": [
    "df[df.buildyear>0].groupby(\"buildyear\")[\"buildyear\"].count().sort_values()"
   ]
  },
  {
   "cell_type": "code",
   "execution_count": 36,
   "metadata": {},
   "outputs": [
    {
     "data": {
      "text/plain": [
       "574.3169975328464"
      ]
     },
     "execution_count": 36,
     "metadata": {},
     "output_type": "execute_result"
    }
   ],
   "source": [
    "df.price.mean()"
   ]
  },
  {
   "cell_type": "code",
   "execution_count": 45,
   "metadata": {},
   "outputs": [
    {
     "data": {
      "text/plain": [
       "97.70228727982082"
      ]
     },
     "execution_count": 45,
     "metadata": {},
     "output_type": "execute_result"
    }
   ],
   "source": [
    "df[\"size\"].mean()"
   ]
  },
  {
   "cell_type": "code",
   "execution_count": 42,
   "metadata": {},
   "outputs": [
    {
     "data": {
      "text/plain": [
       "district_name\n",
       "嘉定     345.022250\n",
       "奉贤     232.931505\n",
       "宝山     374.599914\n",
       "徐汇     694.460061\n",
       "普陀     478.819180\n",
       "杨浦     480.892150\n",
       "松江     528.510567\n",
       "浦东     623.055353\n",
       "虹口     586.318373\n",
       "金山     177.914156\n",
       "长宁     739.642506\n",
       "闵行     573.608100\n",
       "青浦     740.443709\n",
       "静安     703.921581\n",
       "黄浦    1161.369691\n",
       "Name: price, dtype: float64"
      ]
     },
     "execution_count": 42,
     "metadata": {},
     "output_type": "execute_result"
    }
   ],
   "source": [
    "df.groupby(\"district_name\")[\"price\"].mean()"
   ]
  },
  {
   "cell_type": "code",
   "execution_count": 77,
   "metadata": {},
   "outputs": [
    {
     "data": {
      "text/plain": [
       "district_name\n",
       "金山      882\n",
       "青浦     1676\n",
       "奉贤     2059\n",
       "黄浦     2105\n",
       "虹口     2321\n",
       "长宁     3701\n",
       "嘉定     4036\n",
       "静安     4449\n",
       "徐汇     4557\n",
       "普陀     4580\n",
       "松江     4640\n",
       "宝山     4641\n",
       "杨浦     4871\n",
       "闵行     8440\n",
       "浦东    16184\n",
       "Name: district_name, dtype: int64"
      ]
     },
     "execution_count": 77,
     "metadata": {},
     "output_type": "execute_result"
    }
   ],
   "source": [
    "df.groupby(\"district_name\")[\"district_name\"].count().sort_values()"
   ]
  },
  {
   "cell_type": "code",
   "execution_count": 55,
   "metadata": {},
   "outputs": [
    {
     "data": {
      "text/html": [
       "<div>\n",
       "<style scoped>\n",
       "    .dataframe tbody tr th:only-of-type {\n",
       "        vertical-align: middle;\n",
       "    }\n",
       "\n",
       "    .dataframe tbody tr th {\n",
       "        vertical-align: top;\n",
       "    }\n",
       "\n",
       "    .dataframe thead th {\n",
       "        text-align: right;\n",
       "    }\n",
       "</style>\n",
       "<table border=\"1\" class=\"dataframe\">\n",
       "  <thead>\n",
       "    <tr style=\"text-align: right;\">\n",
       "      <th></th>\n",
       "      <th>_id</th>\n",
       "      <th>title</th>\n",
       "      <th>price</th>\n",
       "      <th>up_price</th>\n",
       "      <th>xiaoqu_name</th>\n",
       "      <th>size</th>\n",
       "      <th>buildyear</th>\n",
       "      <th>huxing</th>\n",
       "      <th>chaoxiang</th>\n",
       "      <th>zhuangxiu</th>\n",
       "      <th>cenggao</th>\n",
       "      <th>louxing</th>\n",
       "      <th>district_name</th>\n",
       "      <th>sub_district_name</th>\n",
       "    </tr>\n",
       "  </thead>\n",
       "  <tbody>\n",
       "    <tr>\n",
       "      <td>48976</td>\n",
       "      <td>5dcbbcb734eb03d80e4da782</td>\n",
       "      <td>花园18亩 开门见3座山 背面靠山 南东2面临天然大河</td>\n",
       "      <td>35000.0</td>\n",
       "      <td>191890.0</td>\n",
       "      <td>世茂佘山庄园</td>\n",
       "      <td>1823.97</td>\n",
       "      <td>2008</td>\n",
       "      <td>6室3厅</td>\n",
       "      <td>南</td>\n",
       "      <td>毛坯</td>\n",
       "      <td>2层</td>\n",
       "      <td>板楼</td>\n",
       "      <td>松江</td>\n",
       "      <td>佘山</td>\n",
       "    </tr>\n",
       "    <tr>\n",
       "      <td>19954</td>\n",
       "      <td>5dcbb86f94ae6f30ad4fdbb9</td>\n",
       "      <td>罕见！占地10亩庄园，整个园区的King！让上海都在仰望</td>\n",
       "      <td>30000.0</td>\n",
       "      <td>156613.0</td>\n",
       "      <td>绿城玫瑰园</td>\n",
       "      <td>1915.56</td>\n",
       "      <td>2013</td>\n",
       "      <td>6室4厅</td>\n",
       "      <td>南</td>\n",
       "      <td>毛坯</td>\n",
       "      <td>2层</td>\n",
       "      <td>板楼</td>\n",
       "      <td>闵行</td>\n",
       "      <td>马桥</td>\n",
       "    </tr>\n",
       "    <tr>\n",
       "      <td>49032</td>\n",
       "      <td>5dcbbcb834eb03d80e4da7ba</td>\n",
       "      <td>仟万精装、华庭岛屿大独栋！5亩占地、自住！价格可谈</td>\n",
       "      <td>30000.0</td>\n",
       "      <td>189672.0</td>\n",
       "      <td>佘山高尔夫郡</td>\n",
       "      <td>1581.68</td>\n",
       "      <td>2009</td>\n",
       "      <td>6室3厅</td>\n",
       "      <td>南 北</td>\n",
       "      <td>精装</td>\n",
       "      <td>2层</td>\n",
       "      <td>板楼</td>\n",
       "      <td>松江</td>\n",
       "      <td>佘山</td>\n",
       "    </tr>\n",
       "    <tr>\n",
       "      <td>29770</td>\n",
       "      <td>5dcbb98894ae6f30ad500229</td>\n",
       "      <td>安福路/常熟路 沿街独幢花园洋房，英式风格 地价已补</td>\n",
       "      <td>24999.0</td>\n",
       "      <td>527406.0</td>\n",
       "      <td>常熟路182号</td>\n",
       "      <td>474.00</td>\n",
       "      <td>1937</td>\n",
       "      <td>6室3厅</td>\n",
       "      <td>南</td>\n",
       "      <td>精装</td>\n",
       "      <td>低楼层(共3层)</td>\n",
       "      <td>板塔结合</td>\n",
       "      <td>徐汇</td>\n",
       "      <td>衡山路</td>\n",
       "    </tr>\n",
       "    <tr>\n",
       "      <td>8360</td>\n",
       "      <td>5dcbb71894ae6f30ad4fae52</td>\n",
       "      <td>世茂顶楼复式，带游泳池，带百平大露台</td>\n",
       "      <td>24000.0</td>\n",
       "      <td>222093.0</td>\n",
       "      <td>世茂滨江花园</td>\n",
       "      <td>1080.63</td>\n",
       "      <td>0</td>\n",
       "      <td></td>\n",
       "      <td></td>\n",
       "      <td></td>\n",
       "      <td></td>\n",
       "      <td></td>\n",
       "      <td>浦东</td>\n",
       "      <td>陆家嘴</td>\n",
       "    </tr>\n",
       "  </tbody>\n",
       "</table>\n",
       "</div>"
      ],
      "text/plain": [
       "                            _id                         title    price  \\\n",
       "48976  5dcbbcb734eb03d80e4da782   花园18亩 开门见3座山 背面靠山 南东2面临天然大河  35000.0   \n",
       "19954  5dcbb86f94ae6f30ad4fdbb9  罕见！占地10亩庄园，整个园区的King！让上海都在仰望  30000.0   \n",
       "49032  5dcbbcb834eb03d80e4da7ba     仟万精装、华庭岛屿大独栋！5亩占地、自住！价格可谈  30000.0   \n",
       "29770  5dcbb98894ae6f30ad500229    安福路/常熟路 沿街独幢花园洋房，英式风格 地价已补  24999.0   \n",
       "8360   5dcbb71894ae6f30ad4fae52            世茂顶楼复式，带游泳池，带百平大露台  24000.0   \n",
       "\n",
       "       up_price xiaoqu_name     size  buildyear huxing chaoxiang zhuangxiu  \\\n",
       "48976  191890.0     世茂佘山庄园   1823.97       2008  6室3厅         南        毛坯    \n",
       "19954  156613.0      绿城玫瑰园   1915.56       2013  6室4厅         南        毛坯    \n",
       "49032  189672.0     佘山高尔夫郡   1581.68       2009  6室3厅       南 北        精装    \n",
       "29770  527406.0    常熟路182号    474.00       1937  6室3厅         南        精装    \n",
       "8360   222093.0     世茂滨江花园   1080.63          0                              \n",
       "\n",
       "          cenggao louxing district_name sub_district_name  \n",
       "48976         2层      板楼             松江                佘山  \n",
       "19954         2层      板楼             闵行                马桥  \n",
       "49032         2层      板楼             松江                佘山  \n",
       "29770   低楼层(共3层)     板塔结合            徐汇               衡山路  \n",
       "8360                                 浦东               陆家嘴  "
      ]
     },
     "execution_count": 55,
     "metadata": {},
     "output_type": "execute_result"
    }
   ],
   "source": [
    "df.sort_values(by=\"price\", ascending=False).head(5)"
   ]
  },
  {
   "cell_type": "code",
   "execution_count": 67,
   "metadata": {},
   "outputs": [
    {
     "data": {
      "text/plain": [
       "xiaoqu_name\n",
       "广丰路289弄       11425.000000\n",
       "南桥金水领寓        11552.000000\n",
       "石化一村          12323.600000\n",
       "万寿新村(金山)      12680.000000\n",
       "金山银海          12980.000000\n",
       "                 ...      \n",
       "兴国路322号      318560.500000\n",
       "复兴西路299弄     356385.666667\n",
       "霞飞别墅         369767.000000\n",
       "良友别墅         393443.000000\n",
       "常熟路182号      527406.000000\n",
       "Name: up_price, Length: 8581, dtype: float64"
      ]
     },
     "execution_count": 67,
     "metadata": {},
     "output_type": "execute_result"
    }
   ],
   "source": [
    "df.groupby(\"xiaoqu_name\")[\"up_price\"].mean().sort_values()"
   ]
  },
  {
   "cell_type": "code",
   "execution_count": 80,
   "metadata": {},
   "outputs": [
    {
     "name": "stderr",
     "output_type": "stream",
     "text": [
      "C:\\Users\\linushen\\AppData\\Local\\Continuum\\anaconda3\\lib\\site-packages\\ipykernel_launcher.py:1: FutureWarning: using a dict on a Series for aggregation\n",
      "is deprecated and will be removed in a future version. Use                 named aggregation instead.\n",
      "\n",
      "    >>> grouper.agg(name_1=func_1, name_2=func_2)\n",
      "\n",
      "  \"\"\"Entry point for launching an IPython kernel.\n"
     ]
    }
   ],
   "source": [
    "df_num = df.groupby(\"xiaoqu_name\")[\"title\"].agg({\"house_num\": \"count\"})"
   ]
  },
  {
   "cell_type": "code",
   "execution_count": 89,
   "metadata": {},
   "outputs": [
    {
     "data": {
      "text/html": [
       "<div>\n",
       "<style scoped>\n",
       "    .dataframe tbody tr th:only-of-type {\n",
       "        vertical-align: middle;\n",
       "    }\n",
       "\n",
       "    .dataframe tbody tr th {\n",
       "        vertical-align: top;\n",
       "    }\n",
       "\n",
       "    .dataframe thead th {\n",
       "        text-align: right;\n",
       "    }\n",
       "</style>\n",
       "<table border=\"1\" class=\"dataframe\">\n",
       "  <thead>\n",
       "    <tr style=\"text-align: right;\">\n",
       "      <th></th>\n",
       "      <th>house_num</th>\n",
       "    </tr>\n",
       "    <tr>\n",
       "      <th>xiaoqu_name</th>\n",
       "      <th></th>\n",
       "    </tr>\n",
       "  </thead>\n",
       "  <tbody>\n",
       "    <tr>\n",
       "      <td>MAX未来</td>\n",
       "      <td>21</td>\n",
       "    </tr>\n",
       "    <tr>\n",
       "      <td>一品漫城(一期)(公寓)</td>\n",
       "      <td>14</td>\n",
       "    </tr>\n",
       "    <tr>\n",
       "      <td>一品漫城(四期)(公寓)</td>\n",
       "      <td>16</td>\n",
       "    </tr>\n",
       "    <tr>\n",
       "      <td>一品漫城二期（公寓）</td>\n",
       "      <td>15</td>\n",
       "    </tr>\n",
       "    <tr>\n",
       "      <td>万业新阶</td>\n",
       "      <td>36</td>\n",
       "    </tr>\n",
       "    <tr>\n",
       "      <td>...</td>\n",
       "      <td>...</td>\n",
       "    </tr>\n",
       "    <tr>\n",
       "      <td>龙源星城</td>\n",
       "      <td>28</td>\n",
       "    </tr>\n",
       "    <tr>\n",
       "      <td>龙盛佳苑</td>\n",
       "      <td>23</td>\n",
       "    </tr>\n",
       "    <tr>\n",
       "      <td>龙盛国际商业广场(商业类)</td>\n",
       "      <td>12</td>\n",
       "    </tr>\n",
       "    <tr>\n",
       "      <td>龚华新村</td>\n",
       "      <td>13</td>\n",
       "    </tr>\n",
       "    <tr>\n",
       "      <td>龚路新城</td>\n",
       "      <td>15</td>\n",
       "    </tr>\n",
       "  </tbody>\n",
       "</table>\n",
       "<p>2124 rows × 1 columns</p>\n",
       "</div>"
      ],
      "text/plain": [
       "                house_num\n",
       "xiaoqu_name              \n",
       "MAX未来                  21\n",
       "一品漫城(一期)(公寓)           14\n",
       "一品漫城(四期)(公寓)           16\n",
       "一品漫城二期（公寓）             15\n",
       "万业新阶                   36\n",
       "...                   ...\n",
       "龙源星城                   28\n",
       "龙盛佳苑                   23\n",
       "龙盛国际商业广场(商业类)          12\n",
       "龚华新村                   13\n",
       "龚路新城                   15\n",
       "\n",
       "[2124 rows x 1 columns]"
      ]
     },
     "execution_count": 89,
     "metadata": {},
     "output_type": "execute_result"
    }
   ],
   "source": [
    "df_num = df_num[df_num.house_num>10]\n",
    "df_num"
   ]
  },
  {
   "cell_type": "code",
   "execution_count": 90,
   "metadata": {},
   "outputs": [],
   "source": [
    "df2 = pd.merge(df_num, df, on=\"xiaoqu_name\")"
   ]
  },
  {
   "cell_type": "code",
   "execution_count": 93,
   "metadata": {},
   "outputs": [
    {
     "data": {
      "text/plain": [
       "xiaoqu_name\n",
       "飞虹北村            14108.000000\n",
       "石化四村            14647.916667\n",
       "卫康花苑            14653.181818\n",
       "石化十村            14735.000000\n",
       "石化七村            15149.363636\n",
       "                   ...      \n",
       "华侨城苏河湾(公寓)     164137.000000\n",
       "御翠园            165054.800000\n",
       "翠湖天地嘉苑         168671.025641\n",
       "滨江凯旋门          172093.391304\n",
       "翠湖天地隽荟         176279.538462\n",
       "Name: up_price, Length: 2124, dtype: float64"
      ]
     },
     "execution_count": 93,
     "metadata": {},
     "output_type": "execute_result"
    }
   ],
   "source": [
    "df2.groupby(\"xiaoqu_name\")[\"up_price\"].mean().sort_values()"
   ]
  },
  {
   "cell_type": "code",
   "execution_count": null,
   "metadata": {},
   "outputs": [],
   "source": []
  }
 ],
 "metadata": {
  "kernelspec": {
   "display_name": "Python 3",
   "language": "python",
   "name": "python3"
  },
  "language_info": {
   "codemirror_mode": {
    "name": "ipython",
    "version": 3
   },
   "file_extension": ".py",
   "mimetype": "text/x-python",
   "name": "python",
   "nbconvert_exporter": "python",
   "pygments_lexer": "ipython3",
   "version": "3.6.8"
  }
 },
 "nbformat": 4,
 "nbformat_minor": 2
}
