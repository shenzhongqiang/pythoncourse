{
 "cells": [
  {
   "cell_type": "code",
   "execution_count": 1,
   "metadata": {},
   "outputs": [
    {
     "data": {
      "text/plain": [
       "array([1., 1., 1., 1., 1.])"
      ]
     },
     "execution_count": 1,
     "metadata": {},
     "output_type": "execute_result"
    }
   ],
   "source": [
    "import numpy as np\n",
    "np.ones(5)"
   ]
  },
  {
   "cell_type": "code",
   "execution_count": 3,
   "metadata": {},
   "outputs": [
    {
     "data": {
      "text/plain": [
       "array([1.+0.j, 2.+0.j, 3.+0.j])"
      ]
     },
     "execution_count": 3,
     "metadata": {},
     "output_type": "execute_result"
    }
   ],
   "source": [
    "import numpy as np\n",
    "a = np.array([1,2,3])\n",
    "a = np.array([[1,2],[3,4]])\n",
    "a = np.array([1,2,3], dtype = complex)\n",
    "a"
   ]
  },
  {
   "cell_type": "code",
   "execution_count": 4,
   "metadata": {},
   "outputs": [
    {
     "data": {
      "text/plain": [
       "(3,)"
      ]
     },
     "execution_count": 4,
     "metadata": {},
     "output_type": "execute_result"
    }
   ],
   "source": [
    "a.shape"
   ]
  },
  {
   "cell_type": "code",
   "execution_count": 5,
   "metadata": {},
   "outputs": [
    {
     "data": {
      "text/plain": [
       "dtype('complex128')"
      ]
     },
     "execution_count": 5,
     "metadata": {},
     "output_type": "execute_result"
    }
   ],
   "source": [
    "a.dtype"
   ]
  },
  {
   "cell_type": "code",
   "execution_count": 6,
   "metadata": {},
   "outputs": [
    {
     "data": {
      "text/plain": [
       "1"
      ]
     },
     "execution_count": 6,
     "metadata": {},
     "output_type": "execute_result"
    }
   ],
   "source": [
    "a.ndim"
   ]
  },
  {
   "cell_type": "code",
   "execution_count": 7,
   "metadata": {},
   "outputs": [
    {
     "data": {
      "text/plain": [
       "array([[0., 0., 0.],\n",
       "       [0., 0., 0.]])"
      ]
     },
     "execution_count": 7,
     "metadata": {},
     "output_type": "execute_result"
    }
   ],
   "source": [
    "np.zeros((2,3))"
   ]
  },
  {
   "cell_type": "code",
   "execution_count": 8,
   "metadata": {},
   "outputs": [
    {
     "data": {
      "text/plain": [
       "array([[1., 1., 1.],\n",
       "       [1., 1., 1.]])"
      ]
     },
     "execution_count": 8,
     "metadata": {},
     "output_type": "execute_result"
    }
   ],
   "source": [
    "np.ones((2,3))"
   ]
  },
  {
   "cell_type": "code",
   "execution_count": 9,
   "metadata": {},
   "outputs": [
    {
     "data": {
      "text/plain": [
       "array([[1., 0., 0., 0., 0., 0., 0., 0., 0., 0.],\n",
       "       [0., 1., 0., 0., 0., 0., 0., 0., 0., 0.],\n",
       "       [0., 0., 1., 0., 0., 0., 0., 0., 0., 0.],\n",
       "       [0., 0., 0., 1., 0., 0., 0., 0., 0., 0.],\n",
       "       [0., 0., 0., 0., 1., 0., 0., 0., 0., 0.],\n",
       "       [0., 0., 0., 0., 0., 1., 0., 0., 0., 0.],\n",
       "       [0., 0., 0., 0., 0., 0., 1., 0., 0., 0.],\n",
       "       [0., 0., 0., 0., 0., 0., 0., 1., 0., 0.],\n",
       "       [0., 0., 0., 0., 0., 0., 0., 0., 1., 0.],\n",
       "       [0., 0., 0., 0., 0., 0., 0., 0., 0., 1.]])"
      ]
     },
     "execution_count": 9,
     "metadata": {},
     "output_type": "execute_result"
    }
   ],
   "source": [
    "np.eye(10)"
   ]
  },
  {
   "cell_type": "code",
   "execution_count": 10,
   "metadata": {},
   "outputs": [
    {
     "data": {
      "text/plain": [
       "array([0, 1, 2, 3, 4, 5, 6, 7, 8, 9])"
      ]
     },
     "execution_count": 10,
     "metadata": {},
     "output_type": "execute_result"
    }
   ],
   "source": [
    "np.arange(10)"
   ]
  },
  {
   "cell_type": "code",
   "execution_count": 15,
   "metadata": {},
   "outputs": [
    {
     "name": "stdout",
     "output_type": "stream",
     "text": [
      "float64\n",
      "[1. 2. 3.]\n"
     ]
    }
   ],
   "source": [
    "a = np.array([1,2,3], dtype=np.float64)\n",
    "print(a.dtype)\n",
    "print(a)"
   ]
  },
  {
   "cell_type": "code",
   "execution_count": 16,
   "metadata": {},
   "outputs": [
    {
     "name": "stdout",
     "output_type": "stream",
     "text": [
      "int32\n",
      "[1 2 3]\n"
     ]
    }
   ],
   "source": [
    "a = np.array([1,2,3], dtype=np.int32)\n",
    "print(a.dtype)\n",
    "print(a)"
   ]
  },
  {
   "cell_type": "code",
   "execution_count": 18,
   "metadata": {},
   "outputs": [
    {
     "name": "stdout",
     "output_type": "stream",
     "text": [
      "|S3\n",
      "[b'abc' b'def']\n"
     ]
    }
   ],
   "source": [
    "a = np.array(['abc', 'defg'], dtype='S3')\n",
    "print(a.dtype)\n",
    "print(a)"
   ]
  },
  {
   "cell_type": "code",
   "execution_count": 19,
   "metadata": {},
   "outputs": [
    {
     "name": "stdout",
     "output_type": "stream",
     "text": [
      "[1 4 9]\n",
      "[2 4 6]\n",
      "[1.         0.5        0.33333333]\n"
     ]
    }
   ],
   "source": [
    "a = np.array([1,2,3])\n",
    "print(a * a)\n",
    "print(a + a)\n",
    "print(1/a)\n"
   ]
  },
  {
   "cell_type": "code",
   "execution_count": 20,
   "metadata": {},
   "outputs": [
    {
     "name": "stdout",
     "output_type": "stream",
     "text": [
      "[0.         1.         1.41421356 1.73205081 2.         2.23606798\n",
      " 2.44948974 2.64575131 2.82842712 3.        ]\n",
      "[1.00000000e+00 2.71828183e+00 7.38905610e+00 2.00855369e+01\n",
      " 5.45981500e+01 1.48413159e+02 4.03428793e+02 1.09663316e+03\n",
      " 2.98095799e+03 8.10308393e+03]\n"
     ]
    }
   ],
   "source": [
    "a=np.arange(10)\n",
    "print(np.sqrt(a))\n",
    "print(np.exp(a))"
   ]
  },
  {
   "cell_type": "code",
   "execution_count": 22,
   "metadata": {},
   "outputs": [
    {
     "name": "stdout",
     "output_type": "stream",
     "text": [
      "[-1.72997364  2.14460723  2.72636085  3.91107254  2.29672706  5.22877172\n",
      "  6.29683723  7.47743847  7.85131897  8.84049029]\n",
      "[-1.72997364  2.14460723  2.72636085  3.91107254  2.29672706  5.22877172\n",
      "  6.29683723  7.47743847  7.85131897  8.84049029]\n"
     ]
    }
   ],
   "source": [
    "b=np.random.randn(10)\n",
    "c = np.add(a, b)\n",
    "d = np.maximum(b, c)\n",
    "print(c)\n",
    "print(d)"
   ]
  },
  {
   "cell_type": "code",
   "execution_count": 23,
   "metadata": {},
   "outputs": [
    {
     "name": "stdout",
     "output_type": "stream",
     "text": [
      "[[0 1 2]\n",
      " [3 4 5]\n",
      " [6 7 8]]\n"
     ]
    }
   ],
   "source": [
    "arr2d = np.arange(9).reshape((3,3))\n",
    "print(arr2d)\n"
   ]
  },
  {
   "cell_type": "code",
   "execution_count": 24,
   "metadata": {},
   "outputs": [
    {
     "name": "stdout",
     "output_type": "stream",
     "text": [
      "[6 7 8]\n",
      "2\n",
      "2\n"
     ]
    }
   ],
   "source": [
    "print(arr2d[2]) # 输出一维数组\n",
    "print(arr2d[0][2])\n",
    "print(arr2d[0, 2])"
   ]
  },
  {
   "cell_type": "code",
   "execution_count": 26,
   "metadata": {},
   "outputs": [
    {
     "data": {
      "text/plain": [
       "array([0, 1, 2, 3, 4])"
      ]
     },
     "execution_count": 26,
     "metadata": {},
     "output_type": "execute_result"
    }
   ],
   "source": [
    "arr2d[arr2d<5]"
   ]
  },
  {
   "cell_type": "code",
   "execution_count": 27,
   "metadata": {},
   "outputs": [
    {
     "data": {
      "text/plain": [
       "array([[0, 1, 2],\n",
       "       [3, 4, 5],\n",
       "       [6, 7, 8]])"
      ]
     },
     "execution_count": 27,
     "metadata": {},
     "output_type": "execute_result"
    }
   ],
   "source": [
    "arr2d"
   ]
  },
  {
   "cell_type": "code",
   "execution_count": 28,
   "metadata": {},
   "outputs": [
    {
     "data": {
      "text/plain": [
       "array([3, 2, 4, 1])"
      ]
     },
     "execution_count": 28,
     "metadata": {},
     "output_type": "execute_result"
    }
   ],
   "source": [
    "arr = np.array([3, 2, 4, 1])\n",
    "arr"
   ]
  },
  {
   "cell_type": "code",
   "execution_count": 29,
   "metadata": {},
   "outputs": [
    {
     "data": {
      "text/plain": [
       "10"
      ]
     },
     "execution_count": 29,
     "metadata": {},
     "output_type": "execute_result"
    }
   ],
   "source": [
    "arr.sum()"
   ]
  },
  {
   "cell_type": "code",
   "execution_count": 30,
   "metadata": {},
   "outputs": [
    {
     "data": {
      "text/plain": [
       "2.5"
      ]
     },
     "execution_count": 30,
     "metadata": {},
     "output_type": "execute_result"
    }
   ],
   "source": [
    "arr.mean()"
   ]
  },
  {
   "cell_type": "code",
   "execution_count": 31,
   "metadata": {},
   "outputs": [
    {
     "data": {
      "text/plain": [
       "1.118033988749895"
      ]
     },
     "execution_count": 31,
     "metadata": {},
     "output_type": "execute_result"
    }
   ],
   "source": [
    "arr.std()"
   ]
  },
  {
   "cell_type": "code",
   "execution_count": 32,
   "metadata": {},
   "outputs": [
    {
     "data": {
      "text/plain": [
       "1"
      ]
     },
     "execution_count": 32,
     "metadata": {},
     "output_type": "execute_result"
    }
   ],
   "source": [
    "arr.min()"
   ]
  },
  {
   "cell_type": "code",
   "execution_count": 33,
   "metadata": {},
   "outputs": [
    {
     "data": {
      "text/plain": [
       "4"
      ]
     },
     "execution_count": 33,
     "metadata": {},
     "output_type": "execute_result"
    }
   ],
   "source": [
    "arr.max()"
   ]
  },
  {
   "cell_type": "code",
   "execution_count": 34,
   "metadata": {},
   "outputs": [
    {
     "data": {
      "text/plain": [
       "2"
      ]
     },
     "execution_count": 34,
     "metadata": {},
     "output_type": "execute_result"
    }
   ],
   "source": [
    "arr.argmax()"
   ]
  },
  {
   "cell_type": "code",
   "execution_count": 35,
   "metadata": {},
   "outputs": [
    {
     "data": {
      "text/plain": [
       "array([ 3,  5,  9, 10], dtype=int32)"
      ]
     },
     "execution_count": 35,
     "metadata": {},
     "output_type": "execute_result"
    }
   ],
   "source": [
    "arr.cumsum()"
   ]
  },
  {
   "cell_type": "code",
   "execution_count": 36,
   "metadata": {},
   "outputs": [
    {
     "data": {
      "text/plain": [
       "3"
      ]
     },
     "execution_count": 36,
     "metadata": {},
     "output_type": "execute_result"
    }
   ],
   "source": [
    "(arr>1).sum()"
   ]
  },
  {
   "cell_type": "code",
   "execution_count": 37,
   "metadata": {},
   "outputs": [
    {
     "data": {
      "text/plain": [
       "True"
      ]
     },
     "execution_count": 37,
     "metadata": {},
     "output_type": "execute_result"
    }
   ],
   "source": [
    "(arr>1).any()"
   ]
  },
  {
   "cell_type": "code",
   "execution_count": 38,
   "metadata": {},
   "outputs": [
    {
     "data": {
      "text/plain": [
       "False"
      ]
     },
     "execution_count": 38,
     "metadata": {},
     "output_type": "execute_result"
    }
   ],
   "source": [
    "(arr>1).all()"
   ]
  },
  {
   "cell_type": "code",
   "execution_count": 40,
   "metadata": {},
   "outputs": [
    {
     "data": {
      "text/plain": [
       "array([[ 0.73904612, -1.09928527,  0.12436162,  1.36815876],\n",
       "       [-1.81888579,  0.45889662,  1.44615061, -0.79951403],\n",
       "       [ 1.12773341,  0.92725402,  0.45645693, -0.31430252]])"
      ]
     },
     "execution_count": 40,
     "metadata": {},
     "output_type": "execute_result"
    }
   ],
   "source": [
    "a = np.random.randn(3, 4) # 标准正态分布\n",
    "a"
   ]
  },
  {
   "cell_type": "code",
   "execution_count": 41,
   "metadata": {},
   "outputs": [
    {
     "data": {
      "text/plain": [
       "array([5, 1, 5, 7, 7])"
      ]
     },
     "execution_count": 41,
     "metadata": {},
     "output_type": "execute_result"
    }
   ],
   "source": [
    "a = np.random.randint(10, size=5) # 整数\n",
    "a"
   ]
  },
  {
   "cell_type": "code",
   "execution_count": 42,
   "metadata": {},
   "outputs": [
    {
     "data": {
      "text/plain": [
       "array([ 4,  4,  4,  5,  5,  0,  3,  4,  8,  3,  7,  6,  6,  5,  8,  7,  5,\n",
       "        5,  5,  5,  5,  3,  5,  3,  9,  4,  9,  3,  4,  4,  5,  6,  3,  5,\n",
       "        6,  4,  3,  4,  4,  5,  5,  4,  6,  6,  4,  2,  4,  3,  6,  5,  2,\n",
       "        4,  3,  4,  5,  6,  4,  8,  3,  6,  2,  8,  1,  8,  5,  4,  1,  3,\n",
       "        4,  4,  8,  6,  2,  6,  6,  8,  3,  3,  4,  6,  4, 10,  5,  4,  2,\n",
       "        6,  1,  5,  6,  4,  4,  6,  6,  5,  2,  6,  6,  6,  6, 10,  2,  8,\n",
       "        6,  5,  1,  6,  5,  5,  5,  7,  9,  3,  5,  3,  5,  2,  4,  3,  5,\n",
       "        4,  5,  2,  4,  4,  6,  3,  6,  1,  5,  3,  4,  4,  6,  4,  4,  2,\n",
       "        2,  3,  2,  6,  3,  4,  5,  5,  1,  7,  2,  6,  4,  5,  8,  6,  9,\n",
       "        4,  7,  4,  5,  3,  5,  6,  6,  5,  8,  3,  2,  5,  5,  5,  3,  1,\n",
       "        2,  7,  7,  4,  4,  8,  5,  3,  4,  2,  2,  3,  8,  2,  5,  6, 10,\n",
       "        7,  5,  5,  1,  2,  3,  4,  5,  5,  3,  2,  2,  4,  6,  6,  3,  4,\n",
       "        2,  3,  3,  9,  5,  1,  6,  5,  4,  5, 10,  0,  6,  2,  7,  9,  5,\n",
       "        7,  6,  7,  5,  2,  8,  3,  5,  5,  8,  6,  5,  5,  2,  3,  2,  6,\n",
       "        1,  5,  6,  4,  7,  7,  7,  5,  7,  5,  4,  4,  8,  4,  1,  2,  7,\n",
       "        3,  7,  5,  6,  2, 10,  6,  4,  9,  8,  5,  8,  7,  6,  7,  7,  4,\n",
       "        7,  1,  6, 13,  7,  3,  4,  6,  5,  5,  3,  1,  2,  6,  4,  2,  2,\n",
       "       10,  7,  8,  5,  3,  5,  5,  7,  7,  5,  2,  9,  4,  7,  4,  4,  6,\n",
       "        7,  8,  6,  6,  5,  4,  3,  6,  7,  6,  4,  3,  2, 14,  2,  4,  3,\n",
       "        6,  4,  3,  5,  4,  7,  3,  7,  8,  6,  6, 10,  4,  4,  4,  4,  4,\n",
       "        5,  6,  6,  8,  4,  1, 12, 11,  4,  8,  6, 12,  1,  6,  2,  7,  5,\n",
       "       11,  6,  8,  8,  5,  7,  6,  4,  6,  6,  3,  6,  7,  3,  7,  7,  8,\n",
       "        6,  4,  9,  3,  3,  4,  6,  4,  6,  2,  7,  7,  1,  8,  7,  5,  8,\n",
       "        4,  4,  9,  5,  4,  4,  4,  2,  3,  2, 11,  6,  2,  5,  6, 10,  4,\n",
       "        5,  4,  4,  6,  5,  3,  2,  6,  8,  4,  3, 10,  1,  6,  6,  4,  3,\n",
       "        3,  1,  3,  2,  7,  5,  4,  3,  7,  4,  9,  3,  2,  6, 12,  5,  5,\n",
       "        3,  2,  5,  1,  5,  5,  5,  3,  6,  5,  4,  7,  7,  5,  6,  5,  8,\n",
       "        3,  5,  5,  3,  1,  6,  3,  3,  2,  6,  8,  6,  6,  6,  5,  2,  2,\n",
       "        3,  3,  5,  3,  3,  4,  5,  6,  6,  4,  2,  3,  3,  4,  6,  4,  2,\n",
       "        3,  3,  3,  2,  2,  3,  7,  4,  3,  5,  6,  6,  7,  6,  7,  6,  4,\n",
       "        5,  6,  2,  7,  7,  6,  9,  8,  8,  2,  9,  3,  6,  6,  5,  4,  5,\n",
       "        7,  5,  4,  4,  9,  2,  3,  6,  5,  3,  6,  5,  5,  5,  5,  2,  4,\n",
       "        3,  6,  2,  7,  3,  3,  3,  5,  9,  4,  6,  3,  6,  4,  8,  5,  3,\n",
       "        6,  2,  4,  3,  6,  2,  4,  5,  8,  6,  2,  6,  3,  4,  6,  5,  6,\n",
       "        5,  2,  4,  4,  7,  4,  1,  3,  1,  7,  7,  3,  6,  9,  4,  7,  5,\n",
       "        4,  9,  7,  3,  2,  2,  4,  7,  8,  9,  4,  2,  7,  3,  8,  1,  1,\n",
       "        8,  5,  6,  4,  6,  5,  5,  5,  7,  1,  3,  7,  0,  8, 12,  8,  4,\n",
       "        6,  7,  7,  4,  7,  5,  3,  3,  3,  6,  2,  4,  4,  6,  7,  6, 10,\n",
       "        6,  6,  3,  3,  6,  3,  3, 11,  3,  2,  1,  2, 10,  6,  5,  2,  3,\n",
       "        4,  3,  2,  6,  6,  0,  3,  6,  1,  6,  4,  6,  3,  4,  3,  7,  4,\n",
       "        6,  2,  8,  5,  8,  7, 12,  5,  3,  3,  1,  6,  3,  3,  3,  4,  2,\n",
       "        9,  3,  9,  4,  6,  6,  1,  4,  8,  5,  0,  2,  6,  4,  3,  4,  4,\n",
       "       10,  3,  2,  4,  5,  0,  7,  3,  5,  1,  1,  6,  8,  5,  7,  7,  6,\n",
       "        7,  2,  7,  4,  6,  8,  3,  3,  4,  4,  2,  3,  7,  8,  2,  5,  4,\n",
       "        6,  4,  7,  2,  7,  1,  5,  4,  4,  3,  3,  7,  4,  5,  5, 10,  6,\n",
       "        4,  5,  6,  7,  2,  3,  1,  4,  5,  5,  5,  6,  5,  3,  5,  2,  4,\n",
       "        5,  9,  3,  3,  5, 10,  8,  4,  7,  7,  2,  5,  4,  4,  3,  5,  6,\n",
       "        3,  5,  5,  4,  6,  5,  2,  6,  2,  5,  7,  9,  8,  3,  8,  0,  8,\n",
       "        5,  4,  4,  4,  6, 10,  5,  6,  5,  1,  4,  2, 12,  2,  8,  4,  8,\n",
       "        3,  1,  7,  6,  6,  2,  7,  2,  3,  5,  3,  9,  6,  2,  7,  2,  6,\n",
       "        4,  4,  3,  2,  6,  7,  5,  9,  8,  6,  5,  5,  3,  3,  7, 12,  3,\n",
       "        4,  7,  2,  2,  7,  7,  7,  4, 11,  3,  6,  4,  5,  1,  5,  5,  2,\n",
       "        5,  6,  8,  3,  3,  3,  6, 11,  6,  3, 13,  6,  2,  1,  2,  8,  6,\n",
       "        5,  4,  4,  7,  5,  3, 10,  2,  1,  4,  5,  4,  7,  5,  9,  4,  6,\n",
       "        7,  3,  5,  2,  4,  3,  5,  5,  4,  2,  4,  3, 11,  5,  6,  6,  6,\n",
       "        4,  5,  5,  4,  3,  3,  6,  6,  5,  2,  8,  5,  2,  7,  4,  5,  4,\n",
       "        6,  3,  4,  4,  3,  4,  4,  7,  5,  6,  9,  6,  6,  4,  2,  7,  4,\n",
       "        0,  7,  6,  6,  6,  4,  9,  6,  5,  3,  6,  4,  6,  5,  7,  7,  7,\n",
       "        0,  1,  5,  5,  3,  3,  6,  7,  7,  4,  3,  3,  3,  2])"
      ]
     },
     "execution_count": 42,
     "metadata": {},
     "output_type": "execute_result"
    }
   ],
   "source": [
    "a = np.random.poisson(5, 1000) # 泊松分布\n",
    "a"
   ]
  },
  {
   "cell_type": "code",
   "execution_count": 48,
   "metadata": {},
   "outputs": [
    {
     "data": {
      "text/plain": [
       "array(['e', 'a', 'b', 'c'], dtype='<U1')"
      ]
     },
     "execution_count": 48,
     "metadata": {},
     "output_type": "execute_result"
    }
   ],
   "source": [
    "arr = ['a', 'b', 'c', 'd', 'e']\n",
    "np.random.choice(arr, 4, (0.1, 0, 0.3, 0.6, 0))"
   ]
  }
 ],
 "metadata": {
  "kernelspec": {
   "display_name": "Python 3",
   "language": "python",
   "name": "python3"
  },
  "language_info": {
   "codemirror_mode": {
    "name": "ipython",
    "version": 3
   },
   "file_extension": ".py",
   "mimetype": "text/x-python",
   "name": "python",
   "nbconvert_exporter": "python",
   "pygments_lexer": "ipython3",
   "version": "3.6.8"
  }
 },
 "nbformat": 4,
 "nbformat_minor": 2
}
